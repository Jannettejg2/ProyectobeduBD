{
  "nbformat": 4,
  "nbformat_minor": 0,
  "metadata": {
    "colab": {
      "name": "Copia de PROYECTO JAN_ROS.ipynb",
      "provenance": [],
      "collapsed_sections": [
        "pA8CL8g7M0bp",
        "D_TW2qs9HSQB",
        "SOiEcZIgqVRU"
      ],
      "toc_visible": true,
      "include_colab_link": true
    },
    "kernelspec": {
      "name": "python3",
      "display_name": "Python 3"
    }
  },
  "cells": [
    {
      "cell_type": "markdown",
      "metadata": {
        "id": "view-in-github",
        "colab_type": "text"
      },
      "source": [
        "<a href=\"https://colab.research.google.com/github/Jannettejg2/ProyectobeduBD/blob/master/Copia_de_PROYECTO_JAN_ROS.ipynb\" target=\"_parent\"><img src=\"https://colab.research.google.com/assets/colab-badge.svg\" alt=\"Open In Colab\"/></a>"
      ]
    },
    {
      "cell_type": "markdown",
      "metadata": {
        "id": "nbzmq2AdgxkA"
      },
      "source": [
        "# Nueva sección"
      ]
    },
    {
      "cell_type": "code",
      "metadata": {
        "id": "DKAjO7a1Xngm"
      },
      "source": [
        "import folium\n",
        "from folium import plugins\n",
        "import pandas as pd"
      ],
      "execution_count": 1,
      "outputs": []
    },
    {
      "cell_type": "code",
      "metadata": {
        "id": "P-AxxjUbLDQj"
      },
      "source": [
        "import folium\n",
        "from folium.plugins import MarkerCluster\n",
        "map = folium.Map(location = [19.39068,-99.2836998], zoom_start=4)\n",
        "folium.TileLayer('cartodbdark_matter').add_to(map) # Sets Tile Theme to (Dark Theme)\n",
        "map.save('medium_map.html') # Saves Map to an HTML File"
      ],
      "execution_count": 5,
      "outputs": []
    },
    {
      "cell_type": "code",
      "metadata": {
        "id": "tnLK9aBwImyx"
      },
      "source": [
        "import pandas as pd\n",
        "import matplotlib.pyplot as plt\n",
        "import seaborn as sns"
      ],
      "execution_count": 6,
      "outputs": []
    },
    {
      "cell_type": "code",
      "metadata": {
        "id": "ZgzFGONJNXMw",
        "outputId": "2e479de2-9710-4e53-a16f-c112bbe15ba2",
        "colab": {
          "base_uri": "https://localhost:8080/",
          "height": 197
        }
      },
      "source": [
        "df = pd.read_csv('covid_19_clean_complete(1).csv')\n",
        "df.head()\n"
      ],
      "execution_count": 7,
      "outputs": [
        {
          "output_type": "execute_result",
          "data": {
            "text/html": [
              "<div>\n",
              "<style scoped>\n",
              "    .dataframe tbody tr th:only-of-type {\n",
              "        vertical-align: middle;\n",
              "    }\n",
              "\n",
              "    .dataframe tbody tr th {\n",
              "        vertical-align: top;\n",
              "    }\n",
              "\n",
              "    .dataframe thead th {\n",
              "        text-align: right;\n",
              "    }\n",
              "</style>\n",
              "<table border=\"1\" class=\"dataframe\">\n",
              "  <thead>\n",
              "    <tr style=\"text-align: right;\">\n",
              "      <th></th>\n",
              "      <th>ID</th>\n",
              "      <th>Lat</th>\n",
              "      <th>Long</th>\n",
              "      <th>Date</th>\n",
              "      <th>Confirmed</th>\n",
              "      <th>Deaths</th>\n",
              "      <th>Recovered</th>\n",
              "      <th>Active</th>\n",
              "      <th>WHO Region</th>\n",
              "    </tr>\n",
              "  </thead>\n",
              "  <tbody>\n",
              "    <tr>\n",
              "      <th>0</th>\n",
              "      <td>22-ene-20/Afghanistan:     Confirmados-0     D...</td>\n",
              "      <td>33.93911</td>\n",
              "      <td>67.709953</td>\n",
              "      <td>22/01/2020</td>\n",
              "      <td>0</td>\n",
              "      <td>0</td>\n",
              "      <td>0</td>\n",
              "      <td>0</td>\n",
              "      <td>Eastern Mediterranean</td>\n",
              "    </tr>\n",
              "    <tr>\n",
              "      <th>1</th>\n",
              "      <td>22-ene-20/Albania:     Confirmados-0     Defun...</td>\n",
              "      <td>41.15330</td>\n",
              "      <td>20.168300</td>\n",
              "      <td>22/01/2020</td>\n",
              "      <td>0</td>\n",
              "      <td>0</td>\n",
              "      <td>0</td>\n",
              "      <td>0</td>\n",
              "      <td>Europe</td>\n",
              "    </tr>\n",
              "    <tr>\n",
              "      <th>2</th>\n",
              "      <td>22-ene-20/Algeria:     Confirmados-0     Defun...</td>\n",
              "      <td>28.03390</td>\n",
              "      <td>1.659600</td>\n",
              "      <td>22/01/2020</td>\n",
              "      <td>0</td>\n",
              "      <td>0</td>\n",
              "      <td>0</td>\n",
              "      <td>0</td>\n",
              "      <td>Africa</td>\n",
              "    </tr>\n",
              "    <tr>\n",
              "      <th>3</th>\n",
              "      <td>22-ene-20/Andorra:     Confirmados-0     Defun...</td>\n",
              "      <td>42.50630</td>\n",
              "      <td>1.521800</td>\n",
              "      <td>22/01/2020</td>\n",
              "      <td>0</td>\n",
              "      <td>0</td>\n",
              "      <td>0</td>\n",
              "      <td>0</td>\n",
              "      <td>Europe</td>\n",
              "    </tr>\n",
              "    <tr>\n",
              "      <th>4</th>\n",
              "      <td>22-ene-20/Angola:     Confirmados-0     Defunc...</td>\n",
              "      <td>-11.20270</td>\n",
              "      <td>17.873900</td>\n",
              "      <td>22/01/2020</td>\n",
              "      <td>0</td>\n",
              "      <td>0</td>\n",
              "      <td>0</td>\n",
              "      <td>0</td>\n",
              "      <td>Africa</td>\n",
              "    </tr>\n",
              "  </tbody>\n",
              "</table>\n",
              "</div>"
            ],
            "text/plain": [
              "                                                  ID  ...             WHO Region\n",
              "0  22-ene-20/Afghanistan:     Confirmados-0     D...  ...  Eastern Mediterranean\n",
              "1  22-ene-20/Albania:     Confirmados-0     Defun...  ...                 Europe\n",
              "2  22-ene-20/Algeria:     Confirmados-0     Defun...  ...                 Africa\n",
              "3  22-ene-20/Andorra:     Confirmados-0     Defun...  ...                 Europe\n",
              "4  22-ene-20/Angola:     Confirmados-0     Defunc...  ...                 Africa\n",
              "\n",
              "[5 rows x 9 columns]"
            ]
          },
          "metadata": {
            "tags": []
          },
          "execution_count": 7
        }
      ]
    },
    {
      "cell_type": "code",
      "metadata": {
        "id": "HZX2ijDoavMK"
      },
      "source": [
        "df.columns=df.columns.str.strip()"
      ],
      "execution_count": 9,
      "outputs": []
    },
    {
      "cell_type": "code",
      "metadata": {
        "id": "MA4BUZtQavZo",
        "outputId": "ce5653ca-d904-4225-d22a-5f0eee9770fc",
        "colab": {
          "base_uri": "https://localhost:8080/",
          "height": 197
        }
      },
      "source": [
        "df.head()"
      ],
      "execution_count": 10,
      "outputs": [
        {
          "output_type": "execute_result",
          "data": {
            "text/html": [
              "<div>\n",
              "<style scoped>\n",
              "    .dataframe tbody tr th:only-of-type {\n",
              "        vertical-align: middle;\n",
              "    }\n",
              "\n",
              "    .dataframe tbody tr th {\n",
              "        vertical-align: top;\n",
              "    }\n",
              "\n",
              "    .dataframe thead th {\n",
              "        text-align: right;\n",
              "    }\n",
              "</style>\n",
              "<table border=\"1\" class=\"dataframe\">\n",
              "  <thead>\n",
              "    <tr style=\"text-align: right;\">\n",
              "      <th></th>\n",
              "      <th>ID</th>\n",
              "      <th>Lat</th>\n",
              "      <th>Long</th>\n",
              "      <th>Date</th>\n",
              "      <th>Confirmed</th>\n",
              "      <th>Deaths</th>\n",
              "      <th>Recovered</th>\n",
              "      <th>Active</th>\n",
              "      <th>WHO Region</th>\n",
              "    </tr>\n",
              "  </thead>\n",
              "  <tbody>\n",
              "    <tr>\n",
              "      <th>0</th>\n",
              "      <td>22-ene-20/Afghanistan:     Confirmados-0     D...</td>\n",
              "      <td>33.93911</td>\n",
              "      <td>67.709953</td>\n",
              "      <td>22/01/2020</td>\n",
              "      <td>0</td>\n",
              "      <td>0</td>\n",
              "      <td>0</td>\n",
              "      <td>0</td>\n",
              "      <td>Eastern Mediterranean</td>\n",
              "    </tr>\n",
              "    <tr>\n",
              "      <th>1</th>\n",
              "      <td>22-ene-20/Albania:     Confirmados-0     Defun...</td>\n",
              "      <td>41.15330</td>\n",
              "      <td>20.168300</td>\n",
              "      <td>22/01/2020</td>\n",
              "      <td>0</td>\n",
              "      <td>0</td>\n",
              "      <td>0</td>\n",
              "      <td>0</td>\n",
              "      <td>Europe</td>\n",
              "    </tr>\n",
              "    <tr>\n",
              "      <th>2</th>\n",
              "      <td>22-ene-20/Algeria:     Confirmados-0     Defun...</td>\n",
              "      <td>28.03390</td>\n",
              "      <td>1.659600</td>\n",
              "      <td>22/01/2020</td>\n",
              "      <td>0</td>\n",
              "      <td>0</td>\n",
              "      <td>0</td>\n",
              "      <td>0</td>\n",
              "      <td>Africa</td>\n",
              "    </tr>\n",
              "    <tr>\n",
              "      <th>3</th>\n",
              "      <td>22-ene-20/Andorra:     Confirmados-0     Defun...</td>\n",
              "      <td>42.50630</td>\n",
              "      <td>1.521800</td>\n",
              "      <td>22/01/2020</td>\n",
              "      <td>0</td>\n",
              "      <td>0</td>\n",
              "      <td>0</td>\n",
              "      <td>0</td>\n",
              "      <td>Europe</td>\n",
              "    </tr>\n",
              "    <tr>\n",
              "      <th>4</th>\n",
              "      <td>22-ene-20/Angola:     Confirmados-0     Defunc...</td>\n",
              "      <td>-11.20270</td>\n",
              "      <td>17.873900</td>\n",
              "      <td>22/01/2020</td>\n",
              "      <td>0</td>\n",
              "      <td>0</td>\n",
              "      <td>0</td>\n",
              "      <td>0</td>\n",
              "      <td>Africa</td>\n",
              "    </tr>\n",
              "  </tbody>\n",
              "</table>\n",
              "</div>"
            ],
            "text/plain": [
              "                                                  ID  ...             WHO Region\n",
              "0  22-ene-20/Afghanistan:     Confirmados-0     D...  ...  Eastern Mediterranean\n",
              "1  22-ene-20/Albania:     Confirmados-0     Defun...  ...                 Europe\n",
              "2  22-ene-20/Algeria:     Confirmados-0     Defun...  ...                 Africa\n",
              "3  22-ene-20/Andorra:     Confirmados-0     Defun...  ...                 Europe\n",
              "4  22-ene-20/Angola:     Confirmados-0     Defunc...  ...                 Africa\n",
              "\n",
              "[5 rows x 9 columns]"
            ]
          },
          "metadata": {
            "tags": []
          },
          "execution_count": 10
        }
      ]
    },
    {
      "cell_type": "code",
      "metadata": {
        "id": "wGVF_qLQdWJ8"
      },
      "source": [
        "subset_of_df = df.sample(n=10000)"
      ],
      "execution_count": 11,
      "outputs": []
    },
    {
      "cell_type": "code",
      "metadata": {
        "id": "bWFbymRPdmBt"
      },
      "source": [
        "some_map = folium.Map(location=[subset_of_df['Lat'].mean(),\n",
        "                            subset_of_df['Long'].mean()],\n",
        "                            zoom_start=50)"
      ],
      "execution_count": 12,
      "outputs": []
    },
    {
      "cell_type": "code",
      "metadata": {
        "id": "ZM6SCcLwefAx"
      },
      "source": [
        "for row in subset_of_df.itertuples():\n",
        "\n",
        "    some_map.add_child(folium.Marker(location=[row.Lat, row.Long], popup=row.ID))   "
      ],
      "execution_count": 13,
      "outputs": []
    },
    {
      "cell_type": "code",
      "metadata": {
        "id": "2ZHrXgcxikv9"
      },
      "source": [
        "some_map\n",
        "map.save('one_map.html') # Saves Map to an HTML File"
      ],
      "execution_count": 18,
      "outputs": []
    },
    {
      "cell_type": "code",
      "metadata": {
        "id": "CuBroxujkRsY"
      },
      "source": [
        "from folium.plugins import MarkerCluster"
      ],
      "execution_count": 16,
      "outputs": []
    },
    {
      "cell_type": "code",
      "metadata": {
        "id": "929QMjxIYG6L"
      },
      "source": [
        "some_map_2 = folium.Map(location=[subset_of_df['Lat'].mean(),\n",
        "                            subset_of_df['Long'].mean()],\n",
        "                            zoom_start=5)"
      ],
      "execution_count": 17,
      "outputs": []
    },
    {
      "cell_type": "code",
      "metadata": {
        "id": "ZWk8DF72YxQL"
      },
      "source": [
        "mc= MarkerCluster()"
      ],
      "execution_count": null,
      "outputs": []
    },
    {
      "cell_type": "code",
      "metadata": {
        "id": "R16X9OeKaiYJ"
      },
      "source": [
        "for row in subset_of_df.itertuples():\n",
        "    mc.add_child(folium.Marker(location=[row.Lat, row.Long], popup=row.ID))"
      ],
      "execution_count": null,
      "outputs": []
    },
    {
      "cell_type": "code",
      "metadata": {
        "id": "a9ylMnShbNWq",
        "outputId": "0347bbe6-4b40-49f7-ec9c-b26b82d90084",
        "colab": {
          "base_uri": "https://localhost:8080/",
          "height": 167
        }
      },
      "source": [
        "some_map_2.add_child(mc)"
      ],
      "execution_count": 8,
      "outputs": [
        {
          "output_type": "error",
          "ename": "NameError",
          "evalue": "ignored",
          "traceback": [
            "\u001b[0;31m---------------------------------------------------------------------------\u001b[0m",
            "\u001b[0;31mNameError\u001b[0m                                 Traceback (most recent call last)",
            "\u001b[0;32m<ipython-input-8-301a792c585c>\u001b[0m in \u001b[0;36m<module>\u001b[0;34m()\u001b[0m\n\u001b[0;32m----> 1\u001b[0;31m \u001b[0msome_map_2\u001b[0m\u001b[0;34m.\u001b[0m\u001b[0madd_child\u001b[0m\u001b[0;34m(\u001b[0m\u001b[0mmc\u001b[0m\u001b[0;34m)\u001b[0m\u001b[0;34m\u001b[0m\u001b[0;34m\u001b[0m\u001b[0m\n\u001b[0m",
            "\u001b[0;31mNameError\u001b[0m: name 'some_map_2' is not defined"
          ]
        }
      ]
    },
    {
      "cell_type": "code",
      "metadata": {
        "id": "oggwiOW6QFL2"
      },
      "source": [
        "help(folium.Icon)"
      ],
      "execution_count": null,
      "outputs": []
    },
    {
      "cell_type": "code",
      "metadata": {
        "id": "zBjwXJ7ail6z"
      },
      "source": [
        "import pandas as pd\n",
        "import matplotlib.pyplot as plt\n",
        "import seaborn as sns"
      ],
      "execution_count": null,
      "outputs": []
    },
    {
      "cell_type": "code",
      "metadata": {
        "id": "9gV2HSlfKfBD"
      },
      "source": [
        "!pip install chart_studio -q"
      ],
      "execution_count": null,
      "outputs": []
    },
    {
      "cell_type": "code",
      "metadata": {
        "id": "_xWHuWLsjihW"
      },
      "source": [
        "import plotly.graph_objects as go\n"
      ],
      "execution_count": null,
      "outputs": []
    },
    {
      "cell_type": "code",
      "metadata": {
        "id": "QWKGNTb8I7wW"
      },
      "source": [
        "import pandas as pd\n",
        "import plotly.express as px\n",
        "import numpy as np\n",
        "import chart_studio"
      ],
      "execution_count": null,
      "outputs": []
    },
    {
      "cell_type": "code",
      "metadata": {
        "id": "1Ds1zNqvLEim"
      },
      "source": [
        "import chart_studio.plotly as py"
      ],
      "execution_count": null,
      "outputs": []
    },
    {
      "cell_type": "code",
      "metadata": {
        "id": "SXg2s3_VPOZy"
      },
      "source": [
        "import matplotlib\n",
        "import matplotlib.pyplot as plt\n",
        "import pandas as pd\n",
        "import numpy as np\n",
        "import datetime, time, requests\n",
        "from time import sleep"
      ],
      "execution_count": null,
      "outputs": []
    },
    {
      "cell_type": "code",
      "metadata": {
        "id": "5BcPr7XyPmI_"
      },
      "source": [
        "pip install numpy"
      ],
      "execution_count": null,
      "outputs": []
    },
    {
      "cell_type": "code",
      "metadata": {
        "id": "FQDV-k-5fyNe"
      },
      "source": [
        "df = pd.read_csv('CSSE_COVID-19_Daily_Reports.csv')"
      ],
      "execution_count": null,
      "outputs": []
    },
    {
      "cell_type": "code",
      "metadata": {
        "id": "XHHtVUrnG_0A"
      },
      "source": [
        "df.head()"
      ],
      "execution_count": null,
      "outputs": []
    },
    {
      "cell_type": "code",
      "metadata": {
        "id": "x5jUyQCmLeDs"
      },
      "source": [
        "df = df.drop(columns=['Lat', 'Long_','Province_State'])"
      ],
      "execution_count": null,
      "outputs": []
    },
    {
      "cell_type": "code",
      "metadata": {
        "id": "qDoEvFNtVwMk"
      },
      "source": [
        "df_group = df.groupby(by='Country_Region').aggregate(np.sum).T"
      ],
      "execution_count": null,
      "outputs": []
    },
    {
      "cell_type": "code",
      "metadata": {
        "id": "S4YhvIIq7LPx"
      },
      "source": [
        "!pip install Cython\n",
        "\n",
        "!apt-get update && apt-get install -y gcc\n",
        "\n",
        "!pip install pyproj\n",
        "\n",
        "!pip install GEOS"
      ],
      "execution_count": null,
      "outputs": []
    },
    {
      "cell_type": "code",
      "metadata": {
        "id": "sB1WbqsL38ap"
      },
      "source": [
        "import matplotlib\n",
        "import matplotlib.pyplot as plt\n",
        "import pandas as pd\n",
        "import numpy as np\n",
        "import datetime, time, requests\n",
        "from time import sleep"
      ],
      "execution_count": null,
      "outputs": []
    },
    {
      "cell_type": "code",
      "metadata": {
        "id": "NzajfWPs4YrK"
      },
      "source": [
        "def plot_world_map(virus_data, date, save_to_file_name = ''):\n",
        "    # Set the dimension of the figure\n",
        "    #plt.figure(figsize=(16, 8))\n",
        "    # Set the dimension of the figure\n",
        "    my_dpi=96\n",
        "    plt.figure(figsize=(2600/my_dpi, 1800/my_dpi), dpi=my_dpi)\n",
        "\n",
        "    # Make the background map\n",
        "    m=Basemap(llcrnrlon=-180, llcrnrlat=-65,urcrnrlon=180,urcrnrlat=80)\n",
        "    m.drawmapboundary(fill_color='#A6CAE0', linewidth=0)\n",
        "    m.fillcontinents(color='grey', alpha=0.3)\n",
        "    m.drawcoastlines(linewidth=0.1, color=\"white\")\n",
        "    \n",
        "    total_cases = np.sum(virus_data['Confirmed'])\n",
        "\n",
        "    # Add a point per position\n",
        "    m.scatter(virus_data['Longitude'], \n",
        "              virus_data['Latitude'], \n",
        "              s = virus_data['Confirmed'] * 8, # play around with the size or use np.log if you dont like the big circles\n",
        "              alpha=0.4, \n",
        "              c=virus_data['labels_enc'], \n",
        "              cmap=\"Set1\")\n",
        "\n",
        "    plt.title(str(date) + ' Confirmed Covid-19 Cases: ' + str(int(total_cases)) + '\\n(circles not to scale)', fontsize=50)\n",
        "    \n",
        "    if save_to_file_name != '':\n",
        "        plt.savefig(save_to_file_name)\n",
        "        \n",
        "    plt.show()\n",
        "    "
      ],
      "execution_count": null,
      "outputs": []
    },
    {
      "cell_type": "code",
      "metadata": {
        "id": "6iJApcvmMcU6"
      },
      "source": [
        "# Create color map\n",
        "# prepare a color for each point depending on the continent.\n",
        "covid_19_data['labels_enc'] = pd.factorize(covid_19_data['Country_Region'])[0]\n",
        "covid_19_data['labels_enc']"
      ],
      "execution_count": null,
      "outputs": []
    },
    {
      "cell_type": "code",
      "metadata": {
        "id": "479b_wT14ZCz"
      },
      "source": [
        "countries =list(set(df['Country_Region']))\n",
        "print('Unique Country/Regio found:', str(len(countries)))\n",
        "countries"
      ],
      "execution_count": null,
      "outputs": []
    },
    {
      "cell_type": "code",
      "metadata": {
        "id": "xdu0Qmu2-Qf1"
      },
      "source": [
        "def get_lat_lon(zone, \n",
        "                output_as = 'center'):\n",
        "    # thanks openstreetmap! \n",
        "    # create url\n",
        "    url = '{0}{1}{2}'.format('http://nominatim.openstreetmap.org/search?q=',\n",
        "                             zone,\n",
        "                             '&format=json&polygon=0')\n",
        "    # send out request\n",
        "    response = requests.get(url).json()[0]\n",
        "\n",
        "    # parse response to list\n",
        "    if output_as == 'boundingbox':\n",
        "        lst = response[output_as]\n",
        "        output = [float(i) for i in lst]\n",
        "    if output_as == 'center':\n",
        "        lst = [response.get(key) for key in ['lon','lat']]\n",
        "        output = [float(i) for i in lst]\n",
        "        \n",
        "    return output"
      ],
      "execution_count": null,
      "outputs": []
    },
    {
      "cell_type": "code",
      "metadata": {
        "id": "Vb3eNRpC_zgs"
      },
      "source": [
        "geo_centers_lon = []\n",
        "geo_centers_lat = []\n",
        "total_ctry = len(countries)\n",
        "counter_ = 0\n",
        "for ctry in countries:\n",
        "    if counter_ % 10 == 0: print(total_ctry - counter_)\n",
        "    time.sleep(0.2)\n",
        "    centroid = [None, None]\n",
        "    try:\n",
        "        centroid = get_lat_lon(ctry, output_as='center')\n",
        "\n",
        "    except:\n",
        "        print('Could not find:', ctry)\n",
        "        \n",
        "    geo_centers_lon.append(centroid[0])\n",
        "    geo_centers_lat.append(centroid[1])\n",
        "        \n",
        "     \n",
        "    counter_ += 1\n"
      ],
      "execution_count": null,
      "outputs": []
    },
    {
      "cell_type": "code",
      "metadata": {
        "id": "fMGx1qZ4Ailj"
      },
      "source": [
        "full_lats = []\n",
        "full_lons = []\n",
        "for i, r in df.iterrows():\n",
        "    country = r['Country_Region']\n",
        "    index_list = countries.index(country)\n",
        "    full_lats.append(geo_centers_lat[index_list])\n",
        "    full_lons.append(geo_centers_lon[index_list])\n",
        "     \n",
        "# add to data frame\n",
        "df['Long_'] = full_lons\n",
        "df['Lat'] = full_lats\n",
        "df.head(10)"
      ],
      "execution_count": null,
      "outputs": []
    },
    {
      "cell_type": "code",
      "metadata": {
        "id": "hVgsgrXfVU9V"
      },
      "source": [
        "!apt-get install libgeos-3.5.0\n",
        "!apt-get install libgeos-dev\n",
        "!pip install https://github.com/matplotlib/basemap/archive/master.zip"
      ],
      "execution_count": null,
      "outputs": []
    },
    {
      "cell_type": "code",
      "metadata": {
        "id": "uAKpMW7oV4-5"
      },
      "source": [
        "!pip install pyproj==1.9.6"
      ],
      "execution_count": null,
      "outputs": []
    },
    {
      "cell_type": "code",
      "metadata": {
        "id": "kjuA-7fQWB9o"
      },
      "source": [
        "from mpl_toolkits.basemap import Basemap\n",
        "import matplotlib.pyplot as plt\n",
        "%matplotlib inline"
      ],
      "execution_count": null,
      "outputs": []
    },
    {
      "cell_type": "code",
      "metadata": {
        "id": "eq-ie8LdaT7L"
      },
      "source": [
        "pip install numpy"
      ],
      "execution_count": null,
      "outputs": []
    },
    {
      "cell_type": "code",
      "metadata": {
        "id": "OB4d-yMHblNv"
      },
      "source": [
        "pip install matplotlib"
      ],
      "execution_count": null,
      "outputs": []
    },
    {
      "cell_type": "code",
      "metadata": {
        "id": "rJlSuVoKeXUs"
      },
      "source": [
        "pip install Pillow"
      ],
      "execution_count": null,
      "outputs": []
    },
    {
      "cell_type": "code",
      "metadata": {
        "id": "-cezIRnyA5_r"
      },
      "source": [
        "def plot_world_map(virus_data, date, save_to_file_name = ''):\n",
        "    # Set the dimension of the figure\n",
        "    #plt.figure(figsize=(16, 8))\n",
        "    # Set the dimension of the figure\n",
        "    my_dpi=96\n",
        "    plt.figure(figsize=(2600/my_dpi, 1800/my_dpi), dpi=my_dpi)\n",
        "\n",
        "    # Make the background map\n",
        "    m=Basemap(llcrnrlon=-180, llcrnrlat=-65,urcrnrlon=180,urcrnrlat=80)\n",
        "    m.drawmapboundary(fill_color='#A6CAE0', linewidth=0)\n",
        "    m.fillcontinents(color='grey', alpha=0.3)\n",
        "    m.drawcoastlines(linewidth=0.1, color=\"white\")\n",
        "    \n",
        "    total_cases = np.sum(virus_data['Confirmed'])\n",
        "\n",
        "    # Add a point per position\n",
        "    m.scatter(virus_data['Long_'], \n",
        "              virus_data['Lat'], \n",
        "              s = virus_data['Confirmed'] * 8, # play around with the size or use np.log if you dont like the big circles\n",
        "              alpha=0.4, \n",
        "              c=virus_data['labels_enc'], \n",
        "              cmap=\"Set1\")\n",
        "\n",
        "    plt.title(str(date) + ' Confirmed Covid-19 Cases: ' + str(int(total_cases)) + '\\n(circles not to scale)', fontsize=50)\n",
        "    \n",
        "    if save_to_file_name != '':\n",
        "        plt.savefig(save_to_file_name)\n",
        "        \n",
        "    plt.show()"
      ],
      "execution_count": null,
      "outputs": []
    },
    {
      "cell_type": "code",
      "metadata": {
        "id": "i1WuUt4NBs-h"
      },
      "source": [
        "df['labels_enc'] = pd.factorize(df['Country_Region'])[0]\n",
        "df['labels_enc']"
      ],
      "execution_count": null,
      "outputs": []
    },
    {
      "cell_type": "code",
      "metadata": {
        "id": "H1XBmHovSddp"
      },
      "source": [
        "def get_lat_lon(zone, \n",
        "                output_as = 'center'):\n",
        "    # thanks openstreetmap! \n",
        "    # create url\n",
        "    url = '{0}{1}{2}'.format('http://nominatim.openstreetmap.org/search?q=',\n",
        "                             zone,\n",
        "                             '&format=json&polygon=0')\n",
        "    # send out request\n",
        "    response = requests.get(url).json()[0]\n",
        "\n",
        "    # parse response to list\n",
        "    if output_as == 'boundingbox':\n",
        "        lst = response[output_as]\n",
        "        output = [float(i) for i in lst]\n",
        "    if output_as == 'center':\n",
        "        lst = [response.get(key) for key in ['lon','lat']]\n",
        "        output = [float(i) for i in lst]\n",
        "        \n",
        "    return output"
      ],
      "execution_count": null,
      "outputs": []
    },
    {
      "cell_type": "code",
      "metadata": {
        "id": "CwkhbbQ9SkWn"
      },
      "source": [
        "geo_centers_lon = []\n",
        "geo_centers_lat = []\n",
        "total_ctry = len(countries)\n",
        "counter_ = 0\n",
        "for ctry in countries:\n",
        "    if counter_ % 10 == 0: print(total_ctry - counter_)\n",
        "    time.sleep(0.2)\n",
        "    centroid = [None, None]\n",
        "    try:\n",
        "        centroid = get_lat_lon(ctry, output_as='center')\n",
        "\n",
        "    except:\n",
        "        print('Could not find:', ctry)\n",
        "        \n",
        "    geo_centers_lon.append(centroid[0])\n",
        "    geo_centers_lat.append(centroid[1])\n",
        "        \n",
        "     \n",
        "    counter_ += 1"
      ],
      "execution_count": null,
      "outputs": []
    },
    {
      "cell_type": "code",
      "metadata": {
        "id": "Uh5elOgOTLoQ"
      },
      "source": [
        "# Add geos back to data frame\n",
        "full_lats = []\n",
        "full_lons = []\n",
        "for i, r in covid_19_data.iterrows():\n",
        "    country = r['Country/Region']\n",
        "    full_lats.append(geo_centers_lat[index_list])\n",
        "    full_lons.append(geo_centers_lon[index_list])\n",
        "     \n",
        "# add to data frame\n",
        "covid_19_data['Longitude'] = full_lons\n",
        "covid_19_data['Latitude'] = full_lats\n",
        "covid_19_data.head(10)"
      ],
      "execution_count": null,
      "outputs": []
    },
    {
      "cell_type": "code",
      "metadata": {
        "id": "yejDWI2jC2vl"
      },
      "source": [
        "def plot_world_map(virus_data, date, save_to_file_name = ''):\n",
        "    # Set the dimension of the figure\n",
        "    #plt.figure(figsize=(16, 8))\n",
        "    # Set the dimension of the figure\n",
        "    my_dpi=96\n",
        "    plt.figure(figsize=(2600/my_dpi, 1800/my_dpi), dpi=my_dpi)\n",
        "\n",
        "    # Make the background map\n",
        "    m=Basemap(llcrnrlon=-180, llcrnrlat=-65,urcrnrlon=180,urcrnrlat=80)\n",
        "    m.drawmapboundary(fill_color='#A6CAE0', linewidth=0)\n",
        "    m.fillcontinents(color='grey', alpha=0.3)\n",
        "    m.drawcoastlines(linewidth=0.1, color=\"white\")\n",
        "    \n",
        "    total_cases = np.sum(virus_data['Confirmed'])\n",
        "\n",
        "    # Add a point per position\n",
        "    m.scatter(virus_data['Longitude'], \n",
        "              virus_data['Latitude'], \n",
        "              s = virus_data['Confirmed'] * 8, # play around with the size or use np.log if you dont like the big circles\n",
        "              alpha=0.4, \n",
        "              c=virus_data['labels_enc'], \n",
        "              cmap=\"Set1\")\n",
        "\n",
        "    plt.title(str(date) + ' Confirmed Covid-19 Cases: ' + str(int(total_cases)) + '\\n(circles not to scale)', fontsize=50)\n",
        "    \n",
        "    if save_to_file_name != '':\n",
        "        plt.savefig(save_to_file_name)\n",
        "        \n",
        "    plt.show()"
      ],
      "execution_count": null,
      "outputs": []
    },
    {
      "cell_type": "code",
      "metadata": {
        "id": "SjfUxfTfUBes"
      },
      "source": [
        "# Create color map\n",
        "# prepare a color for each point depending on the continent.\n",
        "covid_19_data['labels_enc'] = pd.factorize(covid_19_data['Country/Region'])[0]\n",
        "covid_19_data['labels_enc']"
      ],
      "execution_count": null,
      "outputs": []
    },
    {
      "cell_type": "code",
      "metadata": {
        "id": "NQgMgfM8ULC0"
      },
      "source": [
        "date = '2020-03-04' \n",
        "\n",
        "virus_up_to_today = covid_19_data[covid_19_data['ObservationDate'] <= date]\n",
        "\n",
        "# simplify data set\n",
        "virus_up_to_today = virus_up_to_today[['Country/Region','Province/State', 'labels_enc', 'Confirmed',\n",
        "                     'Deaths', 'Recovered',\n",
        "                     'Longitude', 'Latitude']]\n",
        "\n",
        "\n",
        "# get totals by province then by country as these are cumulative values by province first then by country and not all countries have provinces\n",
        "\n",
        "# group by country and sum/mean values\n",
        "virus_up_to_today=virus_up_to_today.groupby(['Country/Region', 'Province/State', 'labels_enc']).agg({'Confirmed':'last', \n",
        "                           'Deaths':'last',\n",
        "                           'Recovered':'last',\n",
        "                           'Longitude':'mean',\n",
        "                          'Latitude':'mean'}).reset_index()\n",
        "\n",
        "\n",
        "\n",
        "# group by country and sum/mean values\n",
        "virus_up_to_today=virus_up_to_today.groupby(['Country/Region', 'labels_enc']).agg({'Confirmed':'sum', \n",
        "                           'Deaths':'sum',\n",
        "                           'Recovered':'sum',\n",
        "                           'Longitude':'mean',\n",
        "                          'Latitude':'mean'}).reset_index()\n",
        "\n",
        "# map out confirmed cases\n",
        "plot_world_map(virus_up_to_today, str(date)[0:10])"
      ],
      "execution_count": null,
      "outputs": []
    },
    {
      "cell_type": "code",
      "metadata": {
        "id": "X76PRwd7ZY92"
      },
      "source": [
        "# build time lapse with accumulator count by country\n",
        "dates = sorted(list(set(covid_19_data['ObservationDate'])))\n",
        "dates"
      ],
      "execution_count": null,
      "outputs": []
    },
    {
      "cell_type": "code",
      "metadata": {
        "id": "sDhfblQCZjvs"
      },
      "source": [
        "image_file_name_counter = 0\n",
        "for date in dates:\n",
        "    virus_up_to_today = covid_19_data[covid_19_data['ObservationDate'] <= date]\n",
        "    \n",
        "    # simplify data set\n",
        "    virus_up_to_today = virus_up_to_today[['Country/Region','Province/State', 'labels_enc', 'Confirmed',\n",
        "                         'Deaths', 'Recovered',\n",
        "                         'Longitude', 'Latitude']]\n",
        "\n",
        "\n",
        "    # get totals by province then by country as these are cumulative values by province first then by country and not all countries have provinces\n",
        "\n",
        "    # group by country and sum/mean values\n",
        "    virus_up_to_today=virus_up_to_today.groupby(['Country/Region', 'Province/State', 'labels_enc']).agg({'Confirmed':'last', \n",
        "                               'Deaths':'last',\n",
        "                               'Recovered':'last',\n",
        "                               'Longitude':'mean',\n",
        "                              'Latitude':'mean'}).reset_index()\n",
        "\n",
        "\n",
        "\n",
        "    # group by country and sum/mean values\n",
        "    virus_up_to_today=virus_up_to_today.groupby(['Country/Region', 'labels_enc']).agg({'Confirmed':'sum', \n",
        "                               'Deaths':'sum',\n",
        "                               'Recovered':'sum',\n",
        "                               'Longitude':'mean',\n",
        "                              'Latitude':'mean'}).reset_index()\n",
        "     \n",
        "    # map out confirmed cases\n",
        "    file_to_save_name = 'movie/anim_' + str(image_file_name_counter) + '.png'\n",
        "    plot_world_map(virus_up_to_today, str(date)[0:10], file_to_save_name)\n",
        "    \n",
        "  \n",
        "    image_file_name_counter += 1"
      ],
      "execution_count": null,
      "outputs": []
    },
    {
      "cell_type": "code",
      "metadata": {
        "id": "vNVw2bFAcv7L"
      },
      "source": [
        "$ffmpeg -framerate 10 -i \"anim_%d.png\" -pix_fmt yuv420p out.mp4"
      ],
      "execution_count": null,
      "outputs": []
    },
    {
      "cell_type": "code",
      "metadata": {
        "id": "ClhKUy2jW_tn"
      },
      "source": [
        "pip install pandas_alive"
      ],
      "execution_count": null,
      "outputs": []
    }
  ]
}